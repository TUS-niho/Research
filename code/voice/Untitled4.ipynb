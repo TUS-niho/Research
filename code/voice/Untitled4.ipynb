{
 "cells": [
  {
   "cell_type": "code",
   "execution_count": 1,
   "id": "f9633b90-8ebc-4445-a9f0-fba66d4afca5",
   "metadata": {},
   "outputs": [
    {
     "name": "stdout",
     "output_type": "stream",
     "text": [
      "--- Python 環境情報 ---\n",
      "Python実行ファイルのパス: C:\\Users\\akini\\anaconda3\\envs\\audio_analysis_env\\python.exe\n",
      "Pythonのバージョン: 3.10.18 | packaged by Anaconda, Inc. | (main, Jun  5 2025, 13:08:55) [MSC v.1929 64 bit (AMD64)]\n",
      "モジュール検索パス (sys.path):\n",
      "- C:\\Users\\akini\\anaconda3\\envs\\audio_analysis_env\\python310.zip\n",
      "- C:\\Users\\akini\\anaconda3\\envs\\audio_analysis_env\\DLLs\n",
      "- C:\\Users\\akini\\anaconda3\\envs\\audio_analysis_env\\lib\n",
      "- C:\\Users\\akini\\anaconda3\\envs\\audio_analysis_env\n",
      "- \n",
      "- C:\\Users\\akini\\AppData\\Roaming\\Python\\Python310\\site-packages\n",
      "- C:\\Users\\akini\\anaconda3\\envs\\audio_analysis_env\\lib\\site-packages\n",
      "- C:\\Users\\akini\\anaconda3\\envs\\audio_analysis_env\\lib\\site-packages\\win32\n",
      "- C:\\Users\\akini\\anaconda3\\envs\\audio_analysis_env\\lib\\site-packages\\win32\\lib\n",
      "- C:\\Users\\akini\\anaconda3\\envs\\audio_analysis_env\\lib\\site-packages\\Pythonwin\n",
      "\n",
      "--- moviepy モジュール情報 ---\n",
      "エラー: moviepy.editor が見つかりません。\n",
      "`importlib.util.find_spec` でモジュールが見つかりませんでした。\n",
      "\n",
      "--- opensmile モジュール情報 (参考) ---\n",
      "opensmile は正常にインポートできました！\n"
     ]
    }
   ],
   "source": [
    "import sys\n",
    "import os\n",
    "import importlib.util\n",
    "\n",
    "print(\"--- Python 環境情報 ---\")\n",
    "print(\"Python実行ファイルのパス:\", sys.executable)\n",
    "print(\"Pythonのバージョン:\", sys.version)\n",
    "print(\"モジュール検索パス (sys.path):\")\n",
    "for p in sys.path:\n",
    "    print(f\"- {p}\")\n",
    "\n",
    "print(\"\\n--- moviepy モジュール情報 ---\")\n",
    "try:\n",
    "    spec = importlib.util.find_spec(\"moviepy.editor\")\n",
    "    if spec:\n",
    "        print(f\"moviepy.editor が見つかりました。パス: {spec.origin}\")\n",
    "        print(f\"moviepy.editor をインポートします...\")\n",
    "        import moviepy.editor\n",
    "        print(\"moviepy.editor は正常にインポートできました！\")\n",
    "        print(f\"moviepy のバージョン: {moviepy.version.__version__}\")\n",
    "    else:\n",
    "        print(\"エラー: moviepy.editor が見つかりません。\")\n",
    "        print(\"`importlib.util.find_spec` でモジュールが見つかりませんでした。\")\n",
    "except Exception as e:\n",
    "    print(f\"エラー: moviepy.editor のインポート中に例外が発生しました: {e}\")\n",
    "\n",
    "print(\"\\n--- opensmile モジュール情報 (参考) ---\")\n",
    "try:\n",
    "    import opensmile\n",
    "    print(\"opensmile は正常にインポートできました！\")\n",
    "except ModuleNotFoundError:\n",
    "    print(\"エラー: opensmile が見つかりません。\")"
   ]
  },
  {
   "cell_type": "code",
   "execution_count": null,
   "id": "cd30e668-f059-4a73-833b-4f27baf77fcb",
   "metadata": {},
   "outputs": [],
   "source": []
  }
 ],
 "metadata": {
  "kernelspec": {
   "display_name": "Python (Audio Analysis)",
   "language": "python",
   "name": "audio_analysis_env"
  },
  "language_info": {
   "codemirror_mode": {
    "name": "ipython",
    "version": 3
   },
   "file_extension": ".py",
   "mimetype": "text/x-python",
   "name": "python",
   "nbconvert_exporter": "python",
   "pygments_lexer": "ipython3",
   "version": "3.10.18"
  }
 },
 "nbformat": 4,
 "nbformat_minor": 5
}
