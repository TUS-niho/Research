{
 "cells": [
  {
   "cell_type": "code",
   "execution_count": 2,
   "id": "5208f752",
   "metadata": {},
   "outputs": [
    {
     "name": "stdout",
     "output_type": "stream",
     "text": [
      "Requirement already satisfied: moviepy in c:\\users\\akini\\anaconda3\\envs\\audio_analysis_env\\lib\\site-packages (2.2.1)\n",
      "Requirement already satisfied: decorator<6.0,>=4.0.2 in c:\\users\\akini\\anaconda3\\envs\\audio_analysis_env\\lib\\site-packages (from moviepy) (5.1.1)\n",
      "Requirement already satisfied: imageio<3.0,>=2.5 in c:\\users\\akini\\anaconda3\\envs\\audio_analysis_env\\lib\\site-packages (from moviepy) (2.37.0)\n",
      "Requirement already satisfied: imageio_ffmpeg>=0.2.0 in c:\\users\\akini\\anaconda3\\envs\\audio_analysis_env\\lib\\site-packages (from moviepy) (0.6.0)\n",
      "Requirement already satisfied: numpy>=1.25.0 in c:\\users\\akini\\anaconda3\\envs\\audio_analysis_env\\lib\\site-packages (from moviepy) (2.2.6)\n",
      "Requirement already satisfied: proglog<=1.0.0 in c:\\users\\akini\\anaconda3\\envs\\audio_analysis_env\\lib\\site-packages (from moviepy) (0.1.12)\n",
      "Requirement already satisfied: python-dotenv>=0.10 in c:\\users\\akini\\anaconda3\\envs\\audio_analysis_env\\lib\\site-packages (from moviepy) (1.1.1)\n",
      "Requirement already satisfied: pillow<12.0,>=9.2.0 in c:\\users\\akini\\anaconda3\\envs\\audio_analysis_env\\lib\\site-packages (from moviepy) (11.3.0)\n",
      "Requirement already satisfied: tqdm in c:\\users\\akini\\anaconda3\\envs\\audio_analysis_env\\lib\\site-packages (from proglog<=1.0.0->moviepy) (4.67.1)\n",
      "Requirement already satisfied: colorama in c:\\users\\akini\\anaconda3\\envs\\audio_analysis_env\\lib\\site-packages (from tqdm->proglog<=1.0.0->moviepy) (0.4.6)\n",
      "Note: you may need to restart the kernel to use updated packages.\n"
     ]
    }
   ],
   "source": [
    "pip install moviepy"
   ]
  },
  {
   "cell_type": "code",
   "execution_count": 3,
   "id": "8d2d7952-14d2-48fa-a41d-0633e128d053",
   "metadata": {},
   "outputs": [
    {
     "ename": "ModuleNotFoundError",
     "evalue": "No module named 'moviepy.editor'",
     "output_type": "error",
     "traceback": [
      "\u001b[1;31m----------------------------------------------------------------\u001b[0m",
      "\u001b[1;31mModuleNotFoundError\u001b[0m            Traceback (most recent call last)",
      "Cell \u001b[1;32mIn[3], line 1\u001b[0m\n\u001b[1;32m----> 1\u001b[0m \u001b[38;5;28;01mfrom\u001b[39;00m\u001b[38;5;250m \u001b[39m\u001b[38;5;21;01mmoviepy\u001b[39;00m\u001b[38;5;21;01m.\u001b[39;00m\u001b[38;5;21;01meditor\u001b[39;00m\u001b[38;5;250m \u001b[39m\u001b[38;5;28;01mimport\u001b[39;00m VideoFileClip\n\u001b[0;32m      3\u001b[0m video_path \u001b[38;5;241m=\u001b[39m \u001b[38;5;124m\"\u001b[39m\u001b[38;5;124m./test_voice/IMG_1553.MOV\u001b[39m\u001b[38;5;124m\"\u001b[39m  \u001b[38;5;66;03m# あなたの動画ファイルのパス\u001b[39;00m\n\u001b[0;32m      4\u001b[0m audio_path \u001b[38;5;241m=\u001b[39m \u001b[38;5;124m\"\u001b[39m\u001b[38;5;124mextracted_audio.wav\u001b[39m\u001b[38;5;124m\"\u001b[39m \u001b[38;5;66;03m# 抽出する音声ファイルのパス\u001b[39;00m\n",
      "\u001b[1;31mModuleNotFoundError\u001b[0m: No module named 'moviepy.editor'"
     ]
    }
   ],
   "source": [
    "from moviepy.editor import VideoFileClip\n",
    "\n",
    "video_path = \"./test_voice/IMG_1553.MOV\"  # あなたの動画ファイルのパス\n",
    "audio_path = \"extracted_audio.wav\" # 抽出する音声ファイルのパス\n",
    "\n",
    "video = VideoFileClip(video_path)\n",
    "audio = video.audio\n",
    "audio.write_audiofile(audio_path)\n",
    "\n",
    "print(f\"'{video_path}' から音声を '{audio_path}' として抽出しました。\")"
   ]
  },
  {
   "cell_type": "code",
   "execution_count": null,
   "id": "bcbe7863-7063-4396-87e9-9210b5cdc613",
   "metadata": {},
   "outputs": [],
   "source": []
  },
  {
   "cell_type": "code",
   "execution_count": 1,
   "id": "36bf91b6",
   "metadata": {},
   "outputs": [
    {
     "ename": "ModuleNotFoundError",
     "evalue": "No module named 'moviepy.editor'",
     "output_type": "error",
     "traceback": [
      "\u001b[1;31m----------------------------------------------------------------\u001b[0m",
      "\u001b[1;31mModuleNotFoundError\u001b[0m            Traceback (most recent call last)",
      "Cell \u001b[1;32mIn[1], line 1\u001b[0m\n\u001b[1;32m----> 1\u001b[0m \u001b[38;5;28;01mfrom\u001b[39;00m\u001b[38;5;250m \u001b[39m\u001b[38;5;21;01mmoviepy\u001b[39;00m\u001b[38;5;21;01m.\u001b[39;00m\u001b[38;5;21;01meditor\u001b[39;00m\u001b[38;5;250m \u001b[39m\u001b[38;5;28;01mimport\u001b[39;00m VideoFileClip\n\u001b[0;32m      3\u001b[0m \u001b[38;5;28;01mdef\u001b[39;00m\u001b[38;5;250m \u001b[39m\u001b[38;5;21mconvert_video_to_wav\u001b[39m(video_path, output_audio_path):\n\u001b[0;32m      4\u001b[0m \u001b[38;5;250m    \u001b[39m\u001b[38;5;124;03m\"\"\"\u001b[39;00m\n\u001b[0;32m      5\u001b[0m \u001b[38;5;124;03m    Converts a video file to a WAV audio file.\u001b[39;00m\n\u001b[0;32m      6\u001b[0m \n\u001b[1;32m   (...)\u001b[0m\n\u001b[0;32m      9\u001b[0m \u001b[38;5;124;03m        output_audio_path (str): The desired path for the output WAV file.\u001b[39;00m\n\u001b[0;32m     10\u001b[0m \u001b[38;5;124;03m    \"\"\"\u001b[39;00m\n",
      "\u001b[1;31mModuleNotFoundError\u001b[0m: No module named 'moviepy.editor'"
     ]
    }
   ],
   "source": [
    "from moviepy.editor import VideoFileClip\n",
    "\n",
    "def convert_video_to_wav(video_path, output_audio_path):\n",
    "    \"\"\"\n",
    "    Converts a video file to a WAV audio file.\n",
    "\n",
    "    Args:\n",
    "        video_path (str): The path to the input video file.\n",
    "        output_audio_path (str): The desired path for the output WAV file.\n",
    "    \"\"\"\n",
    "    try:\n",
    "        video = VideoFileClip(video_path)\n",
    "        audio = video.audio\n",
    "        audio.write_audiofile(output_audio_path, codec='pcm_s16le') # Use pcm_s16le for uncompressed WAV\n",
    "        audio.close()\n",
    "        video.close()\n",
    "        print(f\"Successfully converted '{video_path}' to '{output_audio_path}'\")\n",
    "    except Exception as e:\n",
    "        print(f\"An error occurred: {e}\")\n",
    "\n",
    "# --- Example Usage ---\n",
    "# Replace 'your_video.mp4' with the actual path to your video file\n",
    "# Replace 'output_audio.wav' with your desired output WAV file name\n",
    "video_file = './test_voice/IMG_1553.MOV'\n",
    "output_wav_file = 'output_audio.wav'\n",
    "\n",
    "convert_video_to_wav(video_file, output_wav_file)"
   ]
  },
  {
   "cell_type": "code",
   "execution_count": 2,
   "id": "db943a34",
   "metadata": {},
   "outputs": [
    {
     "name": "stdout",
     "output_type": "stream",
     "text": [
      "C:\\Users\\akini\\anaconda3\\envs\\infoexp3\\python.exe\n"
     ]
    }
   ],
   "source": [
    "import sys\n",
    "print(sys.executable)"
   ]
  },
  {
   "cell_type": "code",
   "execution_count": 3,
   "id": "f0ed4fa5",
   "metadata": {},
   "outputs": [
    {
     "name": "stdout",
     "output_type": "stream",
     "text": [
      "C:\\Users\\akini\\anaconda3\\envs\\infoexp3\\python.exe\n",
      "['C:\\\\Users\\\\akini\\\\anaconda3\\\\envs\\\\infoexp3\\\\python310.zip', 'C:\\\\Users\\\\akini\\\\anaconda3\\\\envs\\\\infoexp3\\\\DLLs', 'C:\\\\Users\\\\akini\\\\anaconda3\\\\envs\\\\infoexp3\\\\lib', 'C:\\\\Users\\\\akini\\\\anaconda3\\\\envs\\\\infoexp3', '', 'C:\\\\Users\\\\akini\\\\AppData\\\\Roaming\\\\Python\\\\Python310\\\\site-packages', 'C:\\\\Users\\\\akini\\\\anaconda3\\\\envs\\\\infoexp3\\\\lib\\\\site-packages', 'C:\\\\Users\\\\akini\\\\anaconda3\\\\envs\\\\infoexp3\\\\lib\\\\site-packages\\\\win32', 'C:\\\\Users\\\\akini\\\\anaconda3\\\\envs\\\\infoexp3\\\\lib\\\\site-packages\\\\win32\\\\lib', 'C:\\\\Users\\\\akini\\\\anaconda3\\\\envs\\\\infoexp3\\\\lib\\\\site-packages\\\\Pythonwin']\n"
     ]
    }
   ],
   "source": [
    "import sys\n",
    "print(sys.executable)\n",
    "print(sys.path)"
   ]
  },
  {
   "cell_type": "code",
   "execution_count": 4,
   "id": "b939ee2a",
   "metadata": {},
   "outputs": [
    {
     "name": "stdout",
     "output_type": "stream",
     "text": [
      "Collecting ffmpeg-python\n",
      "  Downloading ffmpeg_python-0.2.0-py3-none-any.whl.metadata (1.7 kB)\n",
      "Collecting future (from ffmpeg-python)\n",
      "  Downloading future-1.0.0-py3-none-any.whl.metadata (4.0 kB)\n",
      "Downloading ffmpeg_python-0.2.0-py3-none-any.whl (25 kB)\n",
      "Downloading future-1.0.0-py3-none-any.whl (491 kB)\n",
      "Installing collected packages: future, ffmpeg-python\n",
      "\n",
      "   ---------------------------------------- 0/2 [future]\n",
      "   ---------------------------------------- 0/2 [future]\n",
      "   ---------------------------------------- 0/2 [future]\n",
      "   ---------------------------------------- 0/2 [future]\n",
      "   ---------------------------------------- 0/2 [future]\n",
      "   ---------------------------------------- 0/2 [future]\n",
      "   ---------------------------------------- 0/2 [future]\n",
      "   ---------------------------------------- 0/2 [future]\n",
      "   ---------------------------------------- 0/2 [future]\n",
      "   ---------------------------------------- 0/2 [future]\n",
      "   ---------------------------------------- 0/2 [future]\n",
      "   ---------------------------------------- 0/2 [future]\n",
      "   ---------------------------------------- 0/2 [future]\n",
      "   ---------------------------------------- 0/2 [future]\n",
      "   ---------------------------------------- 0/2 [future]\n",
      "   ---------------------------------------- 0/2 [future]\n",
      "   ---------------------------------------- 0/2 [future]\n",
      "   ---------------------------------------- 0/2 [future]\n",
      "   -------------------- ------------------- 1/2 [ffmpeg-python]\n",
      "   ---------------------------------------- 2/2 [ffmpeg-python]\n",
      "\n",
      "Successfully installed ffmpeg-python-0.2.0 future-1.0.0\n",
      "Note: you may need to restart the kernel to use updated packages.\n"
     ]
    }
   ],
   "source": [
    "pip install ffmpeg-python"
   ]
  },
  {
   "cell_type": "code",
   "execution_count": 5,
   "id": "d255b90f",
   "metadata": {},
   "outputs": [
    {
     "name": "stdout",
     "output_type": "stream",
     "text": [
      "An unexpected error occurred: [WinError 2] 指定されたファイルが見つかりません。\n"
     ]
    }
   ],
   "source": [
    "import ffmpeg\n",
    "\n",
    "def convert_video_to_wav_ffmpeg_python(video_path, output_audio_path):\n",
    "    \"\"\"\n",
    "    ffmpeg-python を使用して動画ファイルからWAV音声を抽出します。\n",
    "\n",
    "    Args:\n",
    "        video_path (str): 入力動画ファイルのパス。\n",
    "        output_audio_path (str): 出力WAVファイルのパス。\n",
    "    \"\"\"\n",
    "    try:\n",
    "        (\n",
    "            ffmpeg\n",
    "            .input(video_path)\n",
    "            .output(output_audio_path, acodec='pcm_s16le', ar='44100', map_metadata='-1')\n",
    "            .run(overwrite_output=True)\n",
    "        )\n",
    "        print(f\"Successfully converted '{video_path}' to '{output_audio_path}' using ffmpeg-python.\")\n",
    "    except ffmpeg.Error as e:\n",
    "        print(f\"An ffmpeg error occurred: {e.stderr.decode()}\", file=sys.stderr)\n",
    "        sys.exit(1)\n",
    "    except Exception as e:\n",
    "        print(f\"An unexpected error occurred: {e}\")\n",
    "\n",
    "# --- 使用例 ---\n",
    "video_file = './test_voice/IMG_1553.MOV'  # あなたの動画ファイルのパスに置き換えてください\n",
    "output_wav_file = 'output_audio_ffmpeg_python.wav'\n",
    "\n",
    "convert_video_to_wav_ffmpeg_python(video_file, output_wav_file)"
   ]
  },
  {
   "cell_type": "code",
   "execution_count": null,
   "id": "299d193b",
   "metadata": {},
   "outputs": [],
   "source": [
    "2.  **openSMILEのPythonバインディング（`opensmile-python`）を使う**:\n",
    "    Python環境を使用している場合、`opensmile-python`ライブラリを使うと、よりプログラム的に特徴量抽出を行うことができます。このライブラリでは、`segment`オプションを使って、指定した区間ごとに特徴量を抽出することが可能です。\n",
    "\n",
    "    ```python\n",
    "    import opensmile\n",
    "    import soundfile as sf\n",
    "    import numpy as np\n",
    "\n",
    "    # サンプル音声データの作成 (例: 1秒、16kHzのサイン波)\n",
    "    samplerate = 16000\n",
    "    duration = 1  # seconds\n",
    "    frequency = 440 # Hz\n",
    "    t = np.linspace(0, duration, int(samplerate * duration), endpoint=False)\n",
    "    signal = 0.5 * np.sin(2 * np.pi * frequency * t)\n",
    "    sf.write('one_second_audio.wav', signal, samplerate)\n",
    "\n",
    "    # openSMILEのSmileオブジェクトを初期化\n",
    "    # feature_setとfeature_levelを選択\n",
    "    # 例: eGeMAPS特徴量セット、Functionalsレベル (統計量)\n",
    "    smile = opensmile.Smile(\n",
    "        feature_set=opensmile.FeatureSet.eGeMAPSv02,\n",
    "        feature_level=opensmile.FeatureLevel.Functionals,\n",
    "        # segmentオプションを使って、1秒ごとに処理\n",
    "        # ここでは入力ファイルがすでに1秒なので、segmentは不要ですが、\n",
    "        # 長い音声ファイルから1秒ずつ抽出する場合は使用します。\n",
    "        # segment=opensmile.Segment(duration=1.0, overlap=0.0)\n",
    "    )\n",
    "\n",
    "    # 1秒の音声ファイルから特徴量を抽出\n",
    "    features = smile.process_file(\"one_second_audio.wav\")\n",
    "\n",
    "    print(features)\n",
    "    ```\n",
    "\n",
    "    `opensmile-python`の`process_file`や`process_signal`メソッドは、デフォルトで入力ファイル全体から特徴量を抽出します。もし長い音声ファイルから1秒ごとに特徴量を抽出したい場合は、`segment`引数を使用することで、スライディングウィンドウ的に処理を行うことができます。\n",
    "\n",
    "    **`segment`引数の例（長い音声ファイルから1秒ごとに特徴量を抽出する場合）**:\n",
    "\n",
    "    ```python\n",
    "    import opensmile\n",
    "    import soundfile as sf\n",
    "    import numpy as np\n",
    "\n",
    "    # 長いサンプル音声データを作成 (例: 5秒、16kHz)\n",
    "    samplerate = 16000\n",
    "    duration = 5 # seconds\n",
    "    frequency = 440 # Hz\n",
    "    t = np.linspace(0, duration, int(samplerate * duration), endpoint=False)\n",
    "    signal = 0.5 * np.sin(2 * np.pi * frequency * t)\n",
    "    sf.write('long_audio.wav', signal, samplerate)\n",
    "\n",
    "    smile = opensmile.Smile(\n",
    "        feature_set=opensmile.FeatureSet.eGeMAPSv02,\n",
    "        feature_level=opensmile.FeatureLevel.Functionals,\n",
    "        # 1秒のウィンドウで、オーバーラップなしでセグメント化\n",
    "        segment=opensmile.Segment(duration=1.0, overlap=0.0)\n",
    "    )\n",
    "\n",
    "    # 長い音声ファイルから1秒ごとに特徴量を抽出\n",
    "    # 結果は各セグメントの特徴量が個別の行として含まれるDataFrameになります。\n",
    "    features_per_second = smile.process_file(\"long_audio.wav\")\n",
    "\n",
    "    print(features_per_second)\n",
    "    ```"
   ]
  }
 ],
 "metadata": {
  "kernelspec": {
   "display_name": "Python (Audio Analysis)",
   "language": "python",
   "name": "audio_analysis_env"
  },
  "language_info": {
   "codemirror_mode": {
    "name": "ipython",
    "version": 3
   },
   "file_extension": ".py",
   "mimetype": "text/x-python",
   "name": "python",
   "nbconvert_exporter": "python",
   "pygments_lexer": "ipython3",
   "version": "3.10.18"
  }
 },
 "nbformat": 4,
 "nbformat_minor": 5
}
